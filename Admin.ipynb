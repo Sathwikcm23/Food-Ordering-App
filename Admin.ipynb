{
 "cells": [
  {
   "cell_type": "code",
   "execution_count": 1,
   "id": "701bc491",
   "metadata": {},
   "outputs": [],
   "source": [
    "import json\n",
    "from prettytable import PrettyTable\n",
    "\n",
    "class Admin:\n",
    "    Foods={}\n",
    "    Food_count=0\n",
    "    def __init__(self,Name,Quantity,Price,Discount,Stock):\n",
    "        Admin.Food_count+=1\n",
    "        self.FoodID=Admin.Food_count\n",
    "        self.Name=Name\n",
    "        self.Quantity=Quantity\n",
    "        self.Price=Price\n",
    "        self.Discount=Discount\n",
    "        self.Stock=Stock\n",
    "   \n",
    "\n",
    "    def Add_food_items(self):\n",
    "        with open('Foods.json','w') as outfile:\n",
    "            Admin.Foods[int(Admin.Food_count)]={'Food_ID':Admin.Food_count,'Name':self.Name,'Quantity':self.Quantity,'Price':self.Price,'Discount':self.Discount,'Stock':self.Stock}\n",
    "            json.dump(Admin.Foods,outfile)\n",
    "            \n",
    "            \n",
    "    def Edit_food_items(Food_id,new_food):\n",
    "        with open(\"Foods.json\") as f:\n",
    "            data=f.read()\n",
    "        Food_data=json.loads(data)\n",
    "        Food_data[str(Food_id)]['Name']=new_food\n",
    "        with open('Foods.json', 'w') as f:\n",
    "            f.write(json.dumps(Food_data))\n",
    "            \n",
    "            \n",
    "    def display_foods():\n",
    "        print('-'*30,'MENU','-'*30)\n",
    "        with open('Foods.json') as f:\n",
    "            data = json.load(f)\n",
    "\n",
    "        table = PrettyTable()\n",
    "        table.field_names = [\"Food ID\", \"Name\", \"Quantity\", \"Price\", \"Discount\", \"Stock\"]\n",
    "\n",
    "        for food_id, food_data in data.items():\n",
    "            row = [food_data[\"Food_ID\"], food_data[\"Name\"], food_data[\"Quantity\"], food_data[\"Price\"], food_data[\"Discount\"], food_data[\"Stock\"]]\n",
    "            table.add_row(row)\n",
    "        print(table)\n",
    "        \n",
    "    def remove_food(food_id):\n",
    "        with open('Foods.json') as f:\n",
    "            data = json.load(f)\n",
    "        data.pop(str(food_id))\n",
    "        \n",
    "        with open('Foods.json','w') as f:\n",
    "            f.write(json.dumps(data))\n",
    "            \n",
    "        \n",
    "        \n",
    "        \n",
    "        \n"
   ]
  },
  {
   "cell_type": "code",
   "execution_count": 2,
   "id": "4bf2103e",
   "metadata": {},
   "outputs": [],
   "source": [
    "F1=Admin(\"Samosa\",1,75,\"20%\",40)"
   ]
  },
  {
   "cell_type": "code",
   "execution_count": 3,
   "id": "2e0c41bf",
   "metadata": {},
   "outputs": [],
   "source": [
    "F1.Add_food_items()"
   ]
  },
  {
   "cell_type": "code",
   "execution_count": 4,
   "id": "583cd16b",
   "metadata": {},
   "outputs": [],
   "source": [
    "F2=Admin(\"Biriyani\",2,100,\"5%\",20)"
   ]
  },
  {
   "cell_type": "code",
   "execution_count": 5,
   "id": "76699c12",
   "metadata": {},
   "outputs": [],
   "source": [
    "F2.Add_food_items()"
   ]
  },
  {
   "cell_type": "code",
   "execution_count": 6,
   "id": "8f0cb25b",
   "metadata": {},
   "outputs": [],
   "source": [
    "F3=Admin(\"Tandoori Chicken\",4,150,\"4%\",25)"
   ]
  },
  {
   "cell_type": "code",
   "execution_count": 7,
   "id": "1334f92a",
   "metadata": {},
   "outputs": [],
   "source": [
    "F3.Add_food_items()"
   ]
  },
  {
   "cell_type": "code",
   "execution_count": 8,
   "id": "199f0526",
   "metadata": {},
   "outputs": [],
   "source": [
    "F4=Admin(\"Vegan Burger\",5,120,\"6%\",15)"
   ]
  },
  {
   "cell_type": "code",
   "execution_count": 9,
   "id": "caf3645c",
   "metadata": {},
   "outputs": [],
   "source": [
    "F4.Add_food_items()"
   ]
  },
  {
   "cell_type": "code",
   "execution_count": 10,
   "id": "e83ebfe8",
   "metadata": {},
   "outputs": [],
   "source": [
    "F5=Admin(\"Truffle Cake\",4,100,\"4%\",30)"
   ]
  },
  {
   "cell_type": "code",
   "execution_count": 11,
   "id": "6ef8bcff",
   "metadata": {},
   "outputs": [],
   "source": [
    "F5.Add_food_items()"
   ]
  },
  {
   "cell_type": "code",
   "execution_count": 12,
   "id": "0de47dda",
   "metadata": {},
   "outputs": [],
   "source": [
    "Admin.Edit_food_items(4,'chicken burger')"
   ]
  },
  {
   "cell_type": "code",
   "execution_count": 13,
   "id": "8008d128",
   "metadata": {},
   "outputs": [],
   "source": [
    "#Admin.display_foods()"
   ]
  },
  {
   "cell_type": "code",
   "execution_count": 14,
   "id": "a254f9d7",
   "metadata": {},
   "outputs": [],
   "source": [
    "Admin.remove_food(4)"
   ]
  },
  {
   "cell_type": "code",
   "execution_count": 15,
   "id": "75cffa65",
   "metadata": {},
   "outputs": [],
   "source": [
    "#Admin.display_foods()"
   ]
  },
  {
   "cell_type": "code",
   "execution_count": null,
   "id": "b99a67d5",
   "metadata": {},
   "outputs": [],
   "source": []
  }
 ],
 "metadata": {
  "kernelspec": {
   "display_name": "Python 3 (ipykernel)",
   "language": "python",
   "name": "python3"
  },
  "language_info": {
   "codemirror_mode": {
    "name": "ipython",
    "version": 3
   },
   "file_extension": ".py",
   "mimetype": "text/x-python",
   "name": "python",
   "nbconvert_exporter": "python",
   "pygments_lexer": "ipython3",
   "version": "3.9.12"
  }
 },
 "nbformat": 4,
 "nbformat_minor": 5
}
